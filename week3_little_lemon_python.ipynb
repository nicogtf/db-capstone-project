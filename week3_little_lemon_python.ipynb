{
 "cells": [
  {
   "cell_type": "code",
   "execution_count": 1,
   "id": "94186583",
   "metadata": {},
   "outputs": [],
   "source": [
    "import mysql.connector as connector\n",
    "from mysql.connector import errorcode"
   ]
  },
  {
   "cell_type": "code",
   "execution_count": 2,
   "id": "1c4593cd",
   "metadata": {},
   "outputs": [],
   "source": [
    "try:\n",
    "    connection = connector.connect(user = 'admin1',\n",
    "                                  password = '12345678',\n",
    "                                  host = 'localhost',\n",
    "                                  )\n",
    "except connector.Error as err:\n",
    "    if err.errno == errorcode.ER_ACCESS_DENIED_ERROR:\n",
    "        print('connection username or passoword are incorrect')\n",
    "    elif err.errno == errorcode.ER_BAD_DB_ERROR:\n",
    "        print('database does not exist')\n",
    "    else:\n",
    "        print(err)"
   ]
  },
  {
   "cell_type": "code",
   "execution_count": 3,
   "id": "04f59cb8",
   "metadata": {},
   "outputs": [],
   "source": [
    "cursor = connection.cursor()"
   ]
  },
  {
   "cell_type": "code",
   "execution_count": 4,
   "id": "ac30956f",
   "metadata": {},
   "outputs": [],
   "source": [
    "cursor.execute(\"USE littlelemondb\")"
   ]
  },
  {
   "cell_type": "code",
   "execution_count": 5,
   "id": "2165f31d",
   "metadata": {},
   "outputs": [
    {
     "name": "stdout",
     "output_type": "stream",
     "text": [
      "('addresses',)\n",
      "('bookings',)\n",
      "('customers',)\n",
      "('menuitems',)\n",
      "('menus',)\n",
      "('multiple_items',)\n",
      "('order_above_150',)\n",
      "('orderdeliverystatus',)\n",
      "('orders',)\n",
      "('ordersview',)\n",
      "('staff',)\n"
     ]
    }
   ],
   "source": [
    "cursor.execute(\"SHOW TABLES\")\n",
    "for table in cursor:\n",
    "    print(table)"
   ]
  },
  {
   "cell_type": "code",
   "execution_count": 6,
   "id": "17a629fa",
   "metadata": {},
   "outputs": [
    {
     "name": "stdout",
     "output_type": "stream",
     "text": [
      "('CustomerID', 'FullName', 'TelephoneNumber', 'Email', 'TotalCost')\n"
     ]
    }
   ],
   "source": [
    "query = \"\"\"\n",
    "select c.CustomerID, c.FullName, c.TelephoneNumber, c.Email, o.TotalCost\n",
    "from Bookings as b\n",
    "inner join Orders as o\n",
    "on b.OrderID = o.OrderID\n",
    "inner join Customers as c\n",
    "on b.CustomerID = c.CustomerID\n",
    "\n",
    "where o.TotalCost > 60;\n",
    "\"\"\"\n",
    "\n",
    "cursor.execute(query)\n",
    "res = cursor.fetchall()\n",
    "col = cursor.column_names\n",
    "\n",
    "print(col)\n",
    "for row in res:\n",
    "    print(row)"
   ]
  },
  {
   "cell_type": "code",
   "execution_count": 7,
   "id": "7d6c61f9",
   "metadata": {},
   "outputs": [],
   "source": [
    "connection.close()"
   ]
  },
  {
   "cell_type": "code",
   "execution_count": null,
   "id": "df3542e0",
   "metadata": {},
   "outputs": [],
   "source": []
  }
 ],
 "metadata": {
  "kernelspec": {
   "display_name": "Python 3 (ipykernel)",
   "language": "python",
   "name": "python3"
  },
  "language_info": {
   "codemirror_mode": {
    "name": "ipython",
    "version": 3
   },
   "file_extension": ".py",
   "mimetype": "text/x-python",
   "name": "python",
   "nbconvert_exporter": "python",
   "pygments_lexer": "ipython3",
   "version": "3.11.2"
  }
 },
 "nbformat": 4,
 "nbformat_minor": 5
}
